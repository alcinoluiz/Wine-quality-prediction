{
 "cells": [
  {
   "cell_type": "code",
   "execution_count": 36,
   "metadata": {
    "collapsed": true
   },
   "outputs": [],
   "source": [
    "# Import libraries\n",
    "import numpy as np\n",
    "import pandas as pd\n",
    "\n",
    "from time import time\n",
    "\n",
    "from sklearn.metrics import f1_score\n",
    "\n",
    "from sklearn.feature_selection import SelectKBest\n",
    "from sklearn.feature_selection import chi2\n",
    "\n",
    "from sklearn.model_selection import KFold\n",
    "\n",
    "from sklearn.cross_validation import train_test_split\n",
    "\n",
    "import matplotlib.pyplot as plt\n",
    "\n",
    "import warnings\n",
    "warnings.filterwarnings('ignore')\n",
    "\n",
    "# Read data\n",
    "data = pd.read_csv(\"winequality-red.csv\", header=0, index_col=False)"
   ]
  },
  {
   "cell_type": "markdown",
   "metadata": {},
   "source": [
    "## Explorando os dados"
   ]
  },
  {
   "cell_type": "code",
   "execution_count": 37,
   "metadata": {
    "scrolled": false
   },
   "outputs": [
    {
     "data": {
      "text/html": [
       "<div>\n",
       "<style scoped>\n",
       "    .dataframe tbody tr th:only-of-type {\n",
       "        vertical-align: middle;\n",
       "    }\n",
       "\n",
       "    .dataframe tbody tr th {\n",
       "        vertical-align: top;\n",
       "    }\n",
       "\n",
       "    .dataframe thead th {\n",
       "        text-align: right;\n",
       "    }\n",
       "</style>\n",
       "<table border=\"1\" class=\"dataframe\">\n",
       "  <thead>\n",
       "    <tr style=\"text-align: right;\">\n",
       "      <th></th>\n",
       "      <th>fixed acidity</th>\n",
       "      <th>volatile acidity</th>\n",
       "      <th>citric acid</th>\n",
       "      <th>residual sugar</th>\n",
       "      <th>chlorides</th>\n",
       "      <th>free sulfur dioxide</th>\n",
       "      <th>total sulfur dioxide</th>\n",
       "      <th>density</th>\n",
       "      <th>pH</th>\n",
       "      <th>sulphates</th>\n",
       "      <th>alcohol</th>\n",
       "      <th>quality</th>\n",
       "    </tr>\n",
       "  </thead>\n",
       "  <tbody>\n",
       "    <tr>\n",
       "      <th>0</th>\n",
       "      <td>7.4</td>\n",
       "      <td>0.70</td>\n",
       "      <td>0.00</td>\n",
       "      <td>1.9</td>\n",
       "      <td>0.076</td>\n",
       "      <td>11.0</td>\n",
       "      <td>34.0</td>\n",
       "      <td>0.9978</td>\n",
       "      <td>3.51</td>\n",
       "      <td>0.56</td>\n",
       "      <td>9.4</td>\n",
       "      <td>5</td>\n",
       "    </tr>\n",
       "    <tr>\n",
       "      <th>1</th>\n",
       "      <td>7.8</td>\n",
       "      <td>0.88</td>\n",
       "      <td>0.00</td>\n",
       "      <td>2.6</td>\n",
       "      <td>0.098</td>\n",
       "      <td>25.0</td>\n",
       "      <td>67.0</td>\n",
       "      <td>0.9968</td>\n",
       "      <td>3.20</td>\n",
       "      <td>0.68</td>\n",
       "      <td>9.8</td>\n",
       "      <td>5</td>\n",
       "    </tr>\n",
       "    <tr>\n",
       "      <th>2</th>\n",
       "      <td>7.8</td>\n",
       "      <td>0.76</td>\n",
       "      <td>0.04</td>\n",
       "      <td>2.3</td>\n",
       "      <td>0.092</td>\n",
       "      <td>15.0</td>\n",
       "      <td>54.0</td>\n",
       "      <td>0.9970</td>\n",
       "      <td>3.26</td>\n",
       "      <td>0.65</td>\n",
       "      <td>9.8</td>\n",
       "      <td>5</td>\n",
       "    </tr>\n",
       "    <tr>\n",
       "      <th>3</th>\n",
       "      <td>11.2</td>\n",
       "      <td>0.28</td>\n",
       "      <td>0.56</td>\n",
       "      <td>1.9</td>\n",
       "      <td>0.075</td>\n",
       "      <td>17.0</td>\n",
       "      <td>60.0</td>\n",
       "      <td>0.9980</td>\n",
       "      <td>3.16</td>\n",
       "      <td>0.58</td>\n",
       "      <td>9.8</td>\n",
       "      <td>6</td>\n",
       "    </tr>\n",
       "    <tr>\n",
       "      <th>4</th>\n",
       "      <td>7.4</td>\n",
       "      <td>0.70</td>\n",
       "      <td>0.00</td>\n",
       "      <td>1.9</td>\n",
       "      <td>0.076</td>\n",
       "      <td>11.0</td>\n",
       "      <td>34.0</td>\n",
       "      <td>0.9978</td>\n",
       "      <td>3.51</td>\n",
       "      <td>0.56</td>\n",
       "      <td>9.4</td>\n",
       "      <td>5</td>\n",
       "    </tr>\n",
       "  </tbody>\n",
       "</table>\n",
       "</div>"
      ],
      "text/plain": [
       "   fixed acidity  volatile acidity  citric acid  residual sugar  chlorides  \\\n",
       "0            7.4              0.70         0.00             1.9      0.076   \n",
       "1            7.8              0.88         0.00             2.6      0.098   \n",
       "2            7.8              0.76         0.04             2.3      0.092   \n",
       "3           11.2              0.28         0.56             1.9      0.075   \n",
       "4            7.4              0.70         0.00             1.9      0.076   \n",
       "\n",
       "   free sulfur dioxide  total sulfur dioxide  density    pH  sulphates  \\\n",
       "0                 11.0                  34.0   0.9978  3.51       0.56   \n",
       "1                 25.0                  67.0   0.9968  3.20       0.68   \n",
       "2                 15.0                  54.0   0.9970  3.26       0.65   \n",
       "3                 17.0                  60.0   0.9980  3.16       0.58   \n",
       "4                 11.0                  34.0   0.9978  3.51       0.56   \n",
       "\n",
       "   alcohol  quality  \n",
       "0      9.4        5  \n",
       "1      9.8        5  \n",
       "2      9.8        5  \n",
       "3      9.8        6  \n",
       "4      9.4        5  "
      ]
     },
     "execution_count": 37,
     "metadata": {},
     "output_type": "execute_result"
    }
   ],
   "source": [
    "data.head()"
   ]
  },
  {
   "cell_type": "code",
   "execution_count": 38,
   "metadata": {
    "scrolled": false
   },
   "outputs": [
    {
     "data": {
      "text/html": [
       "<div>\n",
       "<style scoped>\n",
       "    .dataframe tbody tr th:only-of-type {\n",
       "        vertical-align: middle;\n",
       "    }\n",
       "\n",
       "    .dataframe tbody tr th {\n",
       "        vertical-align: top;\n",
       "    }\n",
       "\n",
       "    .dataframe thead th {\n",
       "        text-align: right;\n",
       "    }\n",
       "</style>\n",
       "<table border=\"1\" class=\"dataframe\">\n",
       "  <thead>\n",
       "    <tr style=\"text-align: right;\">\n",
       "      <th></th>\n",
       "      <th>fixed acidity</th>\n",
       "      <th>volatile acidity</th>\n",
       "      <th>citric acid</th>\n",
       "      <th>residual sugar</th>\n",
       "      <th>chlorides</th>\n",
       "      <th>free sulfur dioxide</th>\n",
       "      <th>total sulfur dioxide</th>\n",
       "      <th>density</th>\n",
       "      <th>pH</th>\n",
       "      <th>sulphates</th>\n",
       "      <th>alcohol</th>\n",
       "      <th>quality</th>\n",
       "    </tr>\n",
       "  </thead>\n",
       "  <tbody>\n",
       "    <tr>\n",
       "      <th>count</th>\n",
       "      <td>1599.000000</td>\n",
       "      <td>1599.000000</td>\n",
       "      <td>1599.000000</td>\n",
       "      <td>1599.000000</td>\n",
       "      <td>1599.000000</td>\n",
       "      <td>1599.000000</td>\n",
       "      <td>1599.000000</td>\n",
       "      <td>1599.000000</td>\n",
       "      <td>1599.000000</td>\n",
       "      <td>1599.000000</td>\n",
       "      <td>1599.000000</td>\n",
       "      <td>1599.000000</td>\n",
       "    </tr>\n",
       "    <tr>\n",
       "      <th>mean</th>\n",
       "      <td>8.319637</td>\n",
       "      <td>0.527821</td>\n",
       "      <td>0.270976</td>\n",
       "      <td>2.538806</td>\n",
       "      <td>0.087467</td>\n",
       "      <td>15.874922</td>\n",
       "      <td>46.467792</td>\n",
       "      <td>0.996747</td>\n",
       "      <td>3.311113</td>\n",
       "      <td>0.658149</td>\n",
       "      <td>10.422983</td>\n",
       "      <td>5.636023</td>\n",
       "    </tr>\n",
       "    <tr>\n",
       "      <th>std</th>\n",
       "      <td>1.741096</td>\n",
       "      <td>0.179060</td>\n",
       "      <td>0.194801</td>\n",
       "      <td>1.409928</td>\n",
       "      <td>0.047065</td>\n",
       "      <td>10.460157</td>\n",
       "      <td>32.895324</td>\n",
       "      <td>0.001887</td>\n",
       "      <td>0.154386</td>\n",
       "      <td>0.169507</td>\n",
       "      <td>1.065668</td>\n",
       "      <td>0.807569</td>\n",
       "    </tr>\n",
       "    <tr>\n",
       "      <th>min</th>\n",
       "      <td>4.600000</td>\n",
       "      <td>0.120000</td>\n",
       "      <td>0.000000</td>\n",
       "      <td>0.900000</td>\n",
       "      <td>0.012000</td>\n",
       "      <td>1.000000</td>\n",
       "      <td>6.000000</td>\n",
       "      <td>0.990070</td>\n",
       "      <td>2.740000</td>\n",
       "      <td>0.330000</td>\n",
       "      <td>8.400000</td>\n",
       "      <td>3.000000</td>\n",
       "    </tr>\n",
       "    <tr>\n",
       "      <th>25%</th>\n",
       "      <td>7.100000</td>\n",
       "      <td>0.390000</td>\n",
       "      <td>0.090000</td>\n",
       "      <td>1.900000</td>\n",
       "      <td>0.070000</td>\n",
       "      <td>7.000000</td>\n",
       "      <td>22.000000</td>\n",
       "      <td>0.995600</td>\n",
       "      <td>3.210000</td>\n",
       "      <td>0.550000</td>\n",
       "      <td>9.500000</td>\n",
       "      <td>5.000000</td>\n",
       "    </tr>\n",
       "    <tr>\n",
       "      <th>50%</th>\n",
       "      <td>7.900000</td>\n",
       "      <td>0.520000</td>\n",
       "      <td>0.260000</td>\n",
       "      <td>2.200000</td>\n",
       "      <td>0.079000</td>\n",
       "      <td>14.000000</td>\n",
       "      <td>38.000000</td>\n",
       "      <td>0.996750</td>\n",
       "      <td>3.310000</td>\n",
       "      <td>0.620000</td>\n",
       "      <td>10.200000</td>\n",
       "      <td>6.000000</td>\n",
       "    </tr>\n",
       "    <tr>\n",
       "      <th>75%</th>\n",
       "      <td>9.200000</td>\n",
       "      <td>0.640000</td>\n",
       "      <td>0.420000</td>\n",
       "      <td>2.600000</td>\n",
       "      <td>0.090000</td>\n",
       "      <td>21.000000</td>\n",
       "      <td>62.000000</td>\n",
       "      <td>0.997835</td>\n",
       "      <td>3.400000</td>\n",
       "      <td>0.730000</td>\n",
       "      <td>11.100000</td>\n",
       "      <td>6.000000</td>\n",
       "    </tr>\n",
       "    <tr>\n",
       "      <th>max</th>\n",
       "      <td>15.900000</td>\n",
       "      <td>1.580000</td>\n",
       "      <td>1.000000</td>\n",
       "      <td>15.500000</td>\n",
       "      <td>0.611000</td>\n",
       "      <td>72.000000</td>\n",
       "      <td>289.000000</td>\n",
       "      <td>1.003690</td>\n",
       "      <td>4.010000</td>\n",
       "      <td>2.000000</td>\n",
       "      <td>14.900000</td>\n",
       "      <td>8.000000</td>\n",
       "    </tr>\n",
       "  </tbody>\n",
       "</table>\n",
       "</div>"
      ],
      "text/plain": [
       "       fixed acidity  volatile acidity  citric acid  residual sugar  \\\n",
       "count    1599.000000       1599.000000  1599.000000     1599.000000   \n",
       "mean        8.319637          0.527821     0.270976        2.538806   \n",
       "std         1.741096          0.179060     0.194801        1.409928   \n",
       "min         4.600000          0.120000     0.000000        0.900000   \n",
       "25%         7.100000          0.390000     0.090000        1.900000   \n",
       "50%         7.900000          0.520000     0.260000        2.200000   \n",
       "75%         9.200000          0.640000     0.420000        2.600000   \n",
       "max        15.900000          1.580000     1.000000       15.500000   \n",
       "\n",
       "         chlorides  free sulfur dioxide  total sulfur dioxide      density  \\\n",
       "count  1599.000000          1599.000000           1599.000000  1599.000000   \n",
       "mean      0.087467            15.874922             46.467792     0.996747   \n",
       "std       0.047065            10.460157             32.895324     0.001887   \n",
       "min       0.012000             1.000000              6.000000     0.990070   \n",
       "25%       0.070000             7.000000             22.000000     0.995600   \n",
       "50%       0.079000            14.000000             38.000000     0.996750   \n",
       "75%       0.090000            21.000000             62.000000     0.997835   \n",
       "max       0.611000            72.000000            289.000000     1.003690   \n",
       "\n",
       "                pH    sulphates      alcohol      quality  \n",
       "count  1599.000000  1599.000000  1599.000000  1599.000000  \n",
       "mean      3.311113     0.658149    10.422983     5.636023  \n",
       "std       0.154386     0.169507     1.065668     0.807569  \n",
       "min       2.740000     0.330000     8.400000     3.000000  \n",
       "25%       3.210000     0.550000     9.500000     5.000000  \n",
       "50%       3.310000     0.620000    10.200000     6.000000  \n",
       "75%       3.400000     0.730000    11.100000     6.000000  \n",
       "max       4.010000     2.000000    14.900000     8.000000  "
      ]
     },
     "execution_count": 38,
     "metadata": {},
     "output_type": "execute_result"
    }
   ],
   "source": [
    "data.describe()"
   ]
  },
  {
   "cell_type": "code",
   "execution_count": 39,
   "metadata": {
    "scrolled": false
   },
   "outputs": [
    {
     "data": {
      "image/png": "[encoded data removed]",
      "text/plain": [
       "<matplotlib.figure.Figure at 0x7f2ded0dedd0>"
      ]
     },
     "metadata": {},
     "output_type": "display_data"
    }
   ],
   "source": [
    "plt.figure(figsize=(9, 6))\n",
    "\n",
    "plt.scatter(data['volatile acidity'].values, data['alcohol'].values, c=data['quality'].values, cmap=plt.cm.cubehelix)\n",
    "\n",
    "plt.xlabel('Acidity')\n",
    "plt.ylabel('Alcohol')\n",
    "\n",
    "cbar = plt.colorbar()\n",
    "cbar.set_label(\"Quality\")\n",
    "\n",
    "plt.show()"
   ]
  },
  {
   "cell_type": "code",
   "execution_count": 40,
   "metadata": {},
   "outputs": [
    {
     "data": {
      "image/png": "[encoded data removed]",
      "text/plain": [
       "<matplotlib.figure.Figure at 0x7f2ded0dead0>"
      ]
     },
     "metadata": {},
     "output_type": "display_data"
    }
   ],
   "source": [
    "plt.hist(data['quality'], range=(1, 10))\n",
    "\n",
    "plt.xlabel('Ratings of wines')\n",
    "plt.ylabel('Amount')\n",
    "plt.title('Distribution of wine ratings')\n",
    "plt.show()"
   ]
  },
  {
   "cell_type": "markdown",
   "metadata": {},
   "source": [
    "## Preparando os dados"
   ]
  },
  {
   "cell_type": "markdown",
   "metadata": {},
   "source": [
    "### Identificando as features"
   ]
  },
  {
   "cell_type": "code",
   "execution_count": 41,
   "metadata": {},
   "outputs": [
    {
     "name": "stdout",
     "output_type": "stream",
     "text": [
      "['fixed acidity', 'volatile acidity', 'citric acid', 'residual sugar', 'chlorides', 'free sulfur dioxide', 'total sulfur dioxide', 'density', 'pH', 'sulphates', 'alcohol']\n",
      "11\n",
      "\n",
      "quality\n"
     ]
    }
   ],
   "source": [
    "features = list(data.columns[:-1])\n",
    "resultado = data.columns[-1]\n",
    "\n",
    "print features\n",
    "print len(features)\n",
    "print \n",
    "print resultado"
   ]
  },
  {
   "cell_type": "markdown",
   "metadata": {},
   "source": [
    "### Preprocessando as features"
   ]
  },
  {
   "cell_type": "code",
   "execution_count": 42,
   "metadata": {
    "scrolled": false
   },
   "outputs": [
    {
     "name": "stdout",
     "output_type": "stream",
     "text": [
      "   fixed acidity  volatile acidity  citric acid  residual sugar  chlorides  \\\n",
      "0            8.0              1.18         0.21             1.9      0.083   \n",
      "1            7.0              0.69         0.07             2.5      0.091   \n",
      "2            7.2              0.45         0.15             2.0      0.078   \n",
      "3           11.5              0.42         0.48             2.6      0.077   \n",
      "4           10.8              0.47         0.43             2.1      0.171   \n",
      "\n",
      "   free sulfur dioxide  total sulfur dioxide  density    pH  sulphates  \\\n",
      "0                 14.0                  41.0  0.99532  3.34       0.47   \n",
      "1                 15.0                  21.0  0.99572  3.38       0.60   \n",
      "2                 10.0                  28.0  0.99609  3.29       0.51   \n",
      "3                  8.0                  20.0  0.99852  3.09       0.53   \n",
      "4                 27.0                  66.0  0.99820  3.17       0.76   \n",
      "\n",
      "   alcohol  \n",
      "0     10.5  \n",
      "1     11.3  \n",
      "2      9.9  \n",
      "3     11.0  \n",
      "4     10.8  \n",
      "\n",
      "       fixed acidity  volatile acidity  citric acid  residual sugar  \\\n",
      "count    1599.000000       1599.000000  1599.000000     1599.000000   \n",
      "mean        8.319637          0.527821     0.270976        2.538806   \n",
      "std         1.741096          0.179060     0.194801        1.409928   \n",
      "min         4.600000          0.120000     0.000000        0.900000   \n",
      "25%         7.100000          0.390000     0.090000        1.900000   \n",
      "50%         7.900000          0.520000     0.260000        2.200000   \n",
      "75%         9.200000          0.640000     0.420000        2.600000   \n",
      "max        15.900000          1.580000     1.000000       15.500000   \n",
      "\n",
      "         chlorides  free sulfur dioxide  total sulfur dioxide      density  \\\n",
      "count  1599.000000          1599.000000           1599.000000  1599.000000   \n",
      "mean      0.087467            15.874922             46.467792     0.996747   \n",
      "std       0.047065            10.460157             32.895324     0.001887   \n",
      "min       0.012000             1.000000              6.000000     0.990070   \n",
      "25%       0.070000             7.000000             22.000000     0.995600   \n",
      "50%       0.079000            14.000000             38.000000     0.996750   \n",
      "75%       0.090000            21.000000             62.000000     0.997835   \n",
      "max       0.611000            72.000000            289.000000     1.003690   \n",
      "\n",
      "                pH    sulphates      alcohol  \n",
      "count  1599.000000  1599.000000  1599.000000  \n",
      "mean      3.311113     0.658149    10.422983  \n",
      "std       0.154386     0.169507     1.065668  \n",
      "min       2.740000     0.330000     8.400000  \n",
      "25%       3.210000     0.550000     9.500000  \n",
      "50%       3.310000     0.620000    10.200000  \n",
      "75%       3.400000     0.730000    11.100000  \n",
      "max       4.010000     2.000000    14.900000  \n"
     ]
    }
   ],
   "source": [
    "#vinhos serão considerados ruins < 6\n",
    "data['quality'].replace([1,2,3,4,5], 0,inplace=True)\n",
    "\n",
    "#vinhos serão considerados bons >= 6\n",
    "data['quality'].replace([6,7,8,9,10], 1,inplace=True)\n",
    "\n",
    "data = data.sample(frac=1).reset_index(drop=True)\n",
    "\n",
    "from sklearn import preprocessing\n",
    "\n",
    "features_valores = data[features]\n",
    "resultado_valores = data[resultado]\n",
    "\n",
    "print features_valores.head()\n",
    "print\n",
    "print features_valores.describe()"
   ]
  },
  {
   "cell_type": "markdown",
   "metadata": {},
   "source": [
    "### Treino e Teste - Data split"
   ]
  },
  {
   "cell_type": "code",
   "execution_count": 43,
   "metadata": {},
   "outputs": [
    {
     "name": "stdout",
     "output_type": "stream",
     "text": [
      "Treino\n",
      "600\n",
      "\n",
      "Teste\n",
      "999\n"
     ]
    }
   ],
   "source": [
    "train_size = 600\n",
    "\n",
    "test_size = data.shape[0] - train_size\n",
    "\n",
    "X_train, X_test, y_train, y_test = train_test_split(features_valores, resultado_valores, train_size=train_size, random_state=42)\n",
    "print \"Treino\"\n",
    "print X_train.shape[0]\n",
    "print\n",
    "print \"Teste\"\n",
    "print X_test.shape[0]"
   ]
  },
  {
   "cell_type": "markdown",
   "metadata": {},
   "source": [
    "## Treino"
   ]
  },
  {
   "cell_type": "code",
   "execution_count": 44,
   "metadata": {
    "collapsed": true
   },
   "outputs": [],
   "source": [
    "table_line = \"\"\n",
    "\n",
    "def train_classifier(clf, X_train, y_train):\n",
    "    ''' Fits a classifier to the training data. '''\n",
    "    \n",
    "    # Start the clock, train the classifier, then stop the clock\n",
    "    start = time()\n",
    "    clf.fit(X_train, y_train)\n",
    "    end = time()\n",
    "    \n",
    "    global table_line\n",
    "    table_line += \" {:.4f} |\".format(end - start)\n",
    "    \n",
    "    # Print the results\n",
    "    print \"Trained model in {:.4f} seconds\".format(end - start)\n",
    "\n",
    "    \n",
    "def predict_labels(clf, features, target, train):\n",
    "    ''' Makes predictions using a fit classifier based on F1 score. '''\n",
    "    \n",
    "    # Start the clock, make predictions, then stop the clock\n",
    "    start = time()\n",
    "    y_pred = clf.predict(features)\n",
    "    end = time()\n",
    "    \n",
    "    global table_line\n",
    "    if train:\n",
    "        table_line += \" {:.4f} |\".format(end - start)\n",
    "    \n",
    "    # Print and return results\n",
    "    print \"Made predictions in {:.4f} seconds.\".format(end - start)\n",
    "    return f1_score(target.values, y_pred, pos_label=1)\n",
    "\n",
    "\n",
    "def train_predict(clf, X_train, y_train, X_test, y_test):\n",
    "    global table_line\n",
    "    table_line += \"\\n | {} |\".format(len(X_train))\n",
    "    \n",
    "    ''' Train and predict using a classifer based on F1 score. '''\n",
    "    \n",
    "    # Indicate the classifier and the training set size\n",
    "    print \"Training a {} using a training set size of {}. . .\".format(clf.__class__.__name__, len(X_train))\n",
    "    \n",
    "    # Train the classifier\n",
    "    train_classifier(clf, X_train, y_train)\n",
    "    training_s = predict_labels(clf, X_train, y_train, True)\n",
    "    test_s = predict_labels(clf, X_test, y_test, False)\n",
    "    \n",
    "    table_line += \" {:.4f} |\".format(training_s)\n",
    "    table_line += \" {:.4f} |\".format(test_s)\n",
    "    \n",
    "    # Print the results of prediction for both training and testing\n",
    "    print \"F1 score for training set: {:.4f}.\".format(training_s)\n",
    "    print \"F1 score for test set: {:.4f}.\".format(test_s)"
   ]
  },
  {
   "cell_type": "code",
   "execution_count": 45,
   "metadata": {
    "scrolled": false
   },
   "outputs": [
    {
     "name": "stdout",
     "output_type": "stream",
     "text": [
      "Training a SVC using a training set size of 150. . .\n",
      "Trained model in 0.0055 seconds\n",
      "Made predictions in 0.0011 seconds.\n",
      "Made predictions in 0.0057 seconds.\n",
      "F1 score for training set: 0.9452.\n",
      "F1 score for test set: 0.5386.\n",
      "Training a SVC using a training set size of 300. . .\n",
      "Trained model in 0.0056 seconds\n",
      "Made predictions in 0.0033 seconds.\n",
      "Made predictions in 0.0102 seconds.\n",
      "F1 score for training set: 0.9315.\n",
      "F1 score for test set: 0.5365.\n",
      "Training a SVC using a training set size of 600. . .\n",
      "Trained model in 0.0199 seconds\n",
      "Made predictions in 0.0116 seconds.\n",
      "Made predictions in 0.0191 seconds.\n",
      "F1 score for training set: 0.8917.\n",
      "F1 score for test set: 0.6705.\n",
      "================================================================================\n",
      "Training a RandomForestClassifier using a training set size of 150. . .\n",
      "Trained model in 0.0703 seconds\n",
      "Made predictions in 0.0011 seconds.\n",
      "Made predictions in 0.0015 seconds.\n",
      "F1 score for training set: 0.9863.\n",
      "F1 score for test set: 0.7139.\n",
      "Training a RandomForestClassifier using a training set size of 300. . .\n",
      "Trained model in 0.0239 seconds\n",
      "Made predictions in 0.0014 seconds.\n",
      "Made predictions in 0.0016 seconds.\n",
      "F1 score for training set: 0.9347.\n",
      "F1 score for test set: 0.7507.\n",
      "Training a RandomForestClassifier using a training set size of 600. . .\n",
      "Trained model in 0.0437 seconds\n",
      "Made predictions in 0.0023 seconds.\n",
      "Made predictions in 0.0017 seconds.\n",
      "F1 score for training set: 0.9208.\n",
      "F1 score for test set: 0.7660.\n",
      "================================================================================\n",
      "Training a GradientBoostingClassifier using a training set size of 150. . .\n",
      "Trained model in 0.1360 seconds\n",
      "Made predictions in 0.0009 seconds.\n",
      "Made predictions in 0.0035 seconds.\n",
      "F1 score for training set: 1.0000.\n",
      "F1 score for test set: 0.7068.\n",
      "Training a GradientBoostingClassifier using a training set size of 300. . .\n",
      "Trained model in 0.2504 seconds\n",
      "Made predictions in 0.0022 seconds.\n",
      "Made predictions in 0.0050 seconds.\n",
      "F1 score for training set: 1.0000.\n",
      "F1 score for test set: 0.7488.\n",
      "Training a GradientBoostingClassifier using a training set size of 600. . .\n",
      "Trained model in 0.3435 seconds\n",
      "Made predictions in 0.0034 seconds.\n",
      "Made predictions in 0.0049 seconds.\n",
      "F1 score for training set: 1.0000.\n",
      "F1 score for test set: 0.7843.\n",
      "================================================================================\n",
      "\n",
      " | 150 | 0.0055 | 0.0011 | 0.9452 | 0.5386 |\n",
      " | 300 | 0.0056 | 0.0033 | 0.9315 | 0.5365 |\n",
      " | 600 | 0.0199 | 0.0116 | 0.8917 | 0.6705 |\n",
      " | 150 | 0.0703 | 0.0011 | 0.9863 | 0.7139 |\n",
      " | 300 | 0.0239 | 0.0014 | 0.9347 | 0.7507 |\n",
      " | 600 | 0.0437 | 0.0023 | 0.9208 | 0.7660 |\n",
      " | 150 | 0.1360 | 0.0009 | 1.0000 | 0.7068 |\n",
      " | 300 | 0.2504 | 0.0022 | 1.0000 | 0.7488 |\n",
      " | 600 | 0.3435 | 0.0034 | 1.0000 | 0.7843 |\n"
     ]
    }
   ],
   "source": [
    "from sklearn.ensemble import RandomForestClassifier, GradientBoostingClassifier\n",
    "from sklearn import svm\n",
    "\n",
    "# TODO: Initialize the three models\n",
    "clf_A = svm.SVC(random_state=42)\n",
    "clf_B = RandomForestClassifier(max_depth=7, random_state=42)\n",
    "clf_C = GradientBoostingClassifier(max_depth=7,random_state=42)\n",
    "\n",
    "# TODO: Set up the training set sizes\n",
    "for clf in [clf_A, clf_B, clf_C]:\n",
    "    for size in [150, 300, 600]:\n",
    "        train_predict(clf, X_train[:size], y_train[:size], X_test, y_test)\n",
    "    print '='*80 # imprime linha\n",
    "print table_line"
   ]
  },
  {
   "cell_type": "markdown",
   "metadata": {},
   "source": [
    "** Classifer 1 - SVM**  \n",
    "\n",
    "| Training Set Size | Training Time | Prediction Time (test) | F1 Score (train) | F1 Score (test) |\n",
    "| :---------------: | :---------------------: | :--------------------: | :--------------: | :-------------: |\n",
    "| 150 | 0.0055 | 0.0011 | 0.9452 | 0.5386 |\n",
    " | 300 | 0.0056 | 0.0033 | 0.9315 | 0.5365 |\n",
    " | 600 | 0.0199 | 0.0116 | 0.8917 | 0.6705 |\n",
    " \n",
    "** Classifer 2 - RandomForestClassifier**\n",
    "\n",
    "| Training Set Size | Training Time | Prediction Time (test) | F1 Score (train) | F1 Score (test) |\n",
    "| :---------------: | :---------------------: | :--------------------: | :--------------: | :-------------: |\n",
    "| 150 | 0.0703 | 0.0011 | 0.9863 | 0.7139 |\n",
    " | 300 | 0.0239 | 0.0014 | 0.9347 | 0.7507 |\n",
    " | 600 | 0.0437 | 0.0023 | 0.9208 | 0.7660 |\n",
    "\n",
    "** Classifer 3 - GradientBoostingClassifier**\n",
    "\n",
    "| Training Set Size | Training Time | Prediction Time (test) | F1 Score (train) | F1 Score (test) |\n",
    "| :---------------: | :---------------------: | :--------------------: | :--------------: | :-------------: |\n",
    " | 150 | 0.1360 | 0.0009 | 1.0000 | 0.7068 |\n",
    " | 300 | 0.2504 | 0.0022 | 1.0000 | 0.7488 |\n",
    " | 600 | 0.3435 | 0.0034 | 1.0000 | 0.7843 |"
   ]
  },
  {
   "cell_type": "code",
   "execution_count": null,
   "metadata": {
    "collapsed": true
   },
   "outputs": [],
   "source": []
  },
  {
   "cell_type": "markdown",
   "metadata": {
    "collapsed": true
   },
   "source": [
    "## Removendo os outliers"
   ]
  },
  {
   "cell_type": "code",
   "execution_count": 46,
   "metadata": {
    "scrolled": false
   },
   "outputs": [
    {
     "name": "stdout",
     "output_type": "stream",
     "text": [
      "fixed acidity\n",
      "volatile acidity\n",
      "citric acid\n",
      "residual sugar\n",
      "chlorides\n",
      "free sulfur dioxide\n",
      "total sulfur dioxide\n",
      "density\n",
      "pH\n",
      "sulphates\n",
      "alcohol\n",
      "   fixed acidity  volatile acidity  citric acid  residual sugar  chlorides  \\\n",
      "1            7.0             0.690         0.07             2.5      0.091   \n",
      "2            7.2             0.450         0.15             2.0      0.078   \n",
      "3           11.5             0.420         0.48             2.6      0.077   \n",
      "5            7.7             0.715         0.01             2.1      0.064   \n",
      "6            8.7             0.420         0.45             2.4      0.072   \n",
      "\n",
      "   free sulfur dioxide  total sulfur dioxide  density    pH  sulphates  \\\n",
      "1                 15.0                  21.0  0.99572  3.38       0.60   \n",
      "2                 10.0                  28.0  0.99609  3.29       0.51   \n",
      "3                  8.0                  20.0  0.99852  3.09       0.53   \n",
      "5                 31.0                  43.0  0.99371  3.41       0.57   \n",
      "6                 32.0                  59.0  0.99617  3.33       0.77   \n",
      "\n",
      "   alcohol  quality  \n",
      "1     11.3        1  \n",
      "2      9.9        1  \n",
      "3     11.0        0  \n",
      "5     11.8        1  \n",
      "6     12.0        1  \n",
      "       fixed acidity  volatile acidity  citric acid  residual sugar  \\\n",
      "count     973.000000        973.000000   973.000000      973.000000   \n",
      "mean        8.024666          0.524311     0.230339        2.226824   \n",
      "std         1.257622          0.154952     0.166194        0.577942   \n",
      "min         5.200000          0.180000     0.000000        1.200000   \n",
      "25%         7.100000          0.400000     0.080000        1.900000   \n",
      "50%         7.700000          0.530000     0.230000        2.100000   \n",
      "75%         8.800000          0.640000     0.360000        2.500000   \n",
      "max        11.700000          0.885000     0.610000        5.200000   \n",
      "\n",
      "        chlorides  free sulfur dioxide  total sulfur dioxide     density  \\\n",
      "count  973.000000           973.000000            973.000000  973.000000   \n",
      "mean     0.079327            14.683453             40.315519    0.996545   \n",
      "std      0.014819             8.190410             23.388958    0.001311   \n",
      "min      0.038000             1.000000              6.000000    0.993140   \n",
      "25%      0.070000             8.000000             22.000000    0.995600   \n",
      "50%      0.078000            13.000000             35.000000    0.996600   \n",
      "75%      0.087000            20.000000             54.000000    0.997430   \n",
      "max      0.146000            35.000000            104.000000    0.999600   \n",
      "\n",
      "               pH   sulphates     alcohol     quality  \n",
      "count  973.000000  973.000000  973.000000  973.000000  \n",
      "mean     3.327544    0.621089   10.265502    0.539568  \n",
      "std      0.115150    0.105934    0.852995    0.498688  \n",
      "min      3.060000    0.390000    8.700000    0.000000  \n",
      "25%      3.240000    0.540000    9.500000    0.000000  \n",
      "50%      3.330000    0.600000   10.100000    1.000000  \n",
      "75%      3.400000    0.680000   11.000000    1.000000  \n",
      "max      3.590000    0.900000   12.300000    1.000000  \n"
     ]
    }
   ],
   "source": [
    "for col, col_data in data.iteritems():\n",
    "    if col != 'quality':\n",
    "        print col\n",
    "        data = data[data[col] > data[col].mean() - 2 * data[col].std()]\n",
    "        data = data[data[col] < data[col].mean() + 2 * data[col].std()]\n",
    "    \n",
    "print data.head()\n",
    "\n",
    "print data.describe()\n",
    "    \n",
    "    "
   ]
  },
  {
   "cell_type": "markdown",
   "metadata": {},
   "source": [
    "### Treino e Teste - Data split"
   ]
  },
  {
   "cell_type": "code",
   "execution_count": 47,
   "metadata": {},
   "outputs": [
    {
     "name": "stdout",
     "output_type": "stream",
     "text": [
      "Treino\n",
      "600\n",
      "\n",
      "Teste\n",
      "373\n"
     ]
    }
   ],
   "source": [
    "features_valores = data[features]\n",
    "resultado_valores = data[resultado]\n",
    "\n",
    "train_size = 600\n",
    "\n",
    "test_size = data.shape[0] - train_size\n",
    "\n",
    "X_train, X_test, y_train, y_test = train_test_split(features_valores, resultado_valores, train_size=train_size, random_state=42)\n",
    "print \"Treino\"\n",
    "print X_train.shape[0]\n",
    "print\n",
    "print \"Teste\"\n",
    "print X_test.shape[0]"
   ]
  },
  {
   "cell_type": "markdown",
   "metadata": {},
   "source": [
    "## Escolhendo o melhor modelo"
   ]
  },
  {
   "cell_type": "code",
   "execution_count": 79,
   "metadata": {
    "scrolled": true
   },
   "outputs": [
    {
     "name": "stdout",
     "output_type": "stream",
     "text": [
      "Made predictions in 0.0103 seconds.\n",
      "Tuned model has a training F1 score of 0.9393.\n",
      "Made predictions in 0.0093 seconds.\n",
      "Tuned model has a testing F1 score of 0.7708.\n"
     ]
    }
   ],
   "source": [
    "from sklearn.model_selection import GridSearchCV\n",
    "from sklearn import metrics\n",
    "\n",
    "parameters = [\n",
    "    { 'n_estimators' : [100], 'min_samples_leaf': [1,2,3]}\n",
    "]\n",
    "\n",
    "\n",
    "clf = RandomForestClassifier(max_depth=7, random_state=42)\n",
    "\n",
    "f1_scorer = metrics.make_scorer(metrics.f1_score, pos_label=1)\n",
    "\n",
    "grid_obj = GridSearchCV(clf, parameters, f1_scorer)\n",
    "\n",
    "grid_obj = grid_obj.fit(X_train, y_train)\n",
    "\n",
    "clf = grid_obj.best_estimator_\n",
    "\n",
    "print \"Tuned model has a training F1 score of {:.4f}.\".format(predict_labels(clf, X_train, y_train, False))\n",
    "print \"Tuned model has a testing F1 score of {:.4f}.\".format(predict_labels(clf, X_test, y_test, False))"
   ]
  },
  {
   "cell_type": "code",
   "execution_count": 84,
   "metadata": {},
   "outputs": [
    {
     "name": "stdout",
     "output_type": "stream",
     "text": [
      "Binary confusion matrix:\n",
      "Predicted  False  True  __all__\n",
      "Actual                         \n",
      "False        137    35      172\n",
      "True          53   148      201\n",
      "__all__      190   183      373\n"
     ]
    }
   ],
   "source": [
    "import matplotlib.pyplot as plt\n",
    "from pandas_ml import ConfusionMatrix\n",
    "\n",
    "\n",
    "pred_y = clf.predict(X_test)\n",
    "# print y_test.values\n",
    "# print pred_y\n",
    "\n",
    "binary_confusion_matrix = ConfusionMatrix(y_test.values, pred_y)\n",
    "print(\"Binary confusion matrix:\\n%s\" % binary_confusion_matrix)"
   ]
  },
  {
   "cell_type": "code",
   "execution_count": 85,
   "metadata": {},
   "outputs": [
    {
     "data": {
      "image/png": "[encoded data removed]",
      "text/plain": [
       "<matplotlib.figure.Figure at 0x7f2ded01d6d0>"
      ]
     },
     "metadata": {},
     "output_type": "display_data"
    }
   ],
   "source": [
    "binary_confusion_matrix.plot()\n",
    "plt.show()"
   ]
  },
  {
   "cell_type": "code",
   "execution_count": null,
   "metadata": {
    "collapsed": true
   },
   "outputs": [],
   "source": []
  }
 ],
 "metadata": {
  "kernelspec": {
   "display_name": "Python 2",
   "language": "python",
   "name": "python2"
  },
  "language_info": {
   "codemirror_mode": {
    "name": "ipython",
    "version": 2
   },
   "file_extension": ".py",
   "mimetype": "text/x-python",
   "name": "python",
   "nbconvert_exporter": "python",
   "pygments_lexer": "ipython2",
   "version": "2.7.12"
  }
 },
 "nbformat": 4,
 "nbformat_minor": 2
}
